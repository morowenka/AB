{
 "cells": [
  {
   "cell_type": "markdown",
   "metadata": {
    "id": "Xc0txe0-OV2R"
   },
   "source": [
    "# подготовка"
   ]
  },
  {
   "cell_type": "code",
   "execution_count": null,
   "metadata": {
    "id": "2pCsLT3BAJQy"
   },
   "outputs": [],
   "source": [
    "import numpy as np\n",
    "import scipy\n",
    "import matplotlib.pyplot as plt\n",
    "import scipy.stats as stats\n",
    "import statsmodels\n",
    "import statsmodels.sandbox.stats.multicomp\n",
    "import pandas as pd\n",
    "import datetime\n",
    "from statsmodels.stats.weightstats import ztest\n",
    "\n",
    "import matplotlib.pyplot as plt\n",
    "import seaborn as sns\n",
    "from scipy.stats import norm\n",
    "\n",
    "from tqdm import tqdm\n",
    "from sklearn.utils import shuffle\n",
    "import hashlib\n",
    "from base64 import b64encode\n",
    "import collections\n",
    "import logging\n",
    "\n",
    "import polars as pl\n",
    "import datetime\n",
    "\n",
    "import requests\n",
    "import zipfile\n",
    "\n",
    "import time\n",
    "import collections\n",
    "import pandas as pd\n",
    "import numpy as np\n",
    "\n",
    "import torch\n",
    "\n",
    "import numpy as np\n",
    "import pandas as pd\n",
    "import torch\n",
    "import collections\n",
    "import time\n",
    "import hashlib\n",
    "import matplotlib.pyplot as plt\n",
    "from tqdm import tqdm\n",
    "from scipy.stats import mannwhitneyu, ttest_ind, norm\n",
    "\n",
    "import warnings\n",
    "warnings.filterwarnings('ignore')"
   ]
  },
  {
   "cell_type": "code",
   "execution_count": 4,
   "metadata": {
    "colab": {
     "base_uri": "https://localhost:8080/"
    },
    "id": "HkQyonkvcPl-",
    "outputId": "9988460f-717c-42f4-ea8a-288eeadfb8fc"
   },
   "outputs": [
    {
     "name": "stderr",
     "output_type": "stream",
     "text": [
      "kion dataset download: 100%|██████████| 78.8M/78.8M [02:49<00:00, 464kiB/s] \n"
     ]
    }
   ],
   "source": [
    "url = \"https://github.com/sharthZ23/your-second-recsys/raw/master/data_kion.zip\"\n",
    "\n",
    "req = requests.get(url, stream=True)\n",
    "\n",
    "with open('data_kion.zip', \"wb\") as fd:\n",
    "    total_size_in_bytes = int(req.headers.get('Content-Length', 0))\n",
    "    progress_bar = tqdm(desc='kion dataset download', total=total_size_in_bytes, unit='iB', unit_scale=True)\n",
    "    for chunk in req.iter_content(chunk_size=2 ** 20):\n",
    "        progress_bar.update(len(chunk))\n",
    "        fd.write(chunk)\n",
    "\n",
    "with zipfile.ZipFile('data_kion.zip', 'r') as zip_ref:\n",
    "    zip_ref.extractall()"
   ]
  },
  {
   "cell_type": "code",
   "execution_count": 5,
   "metadata": {
    "id": "YvaQfSVBcLvK"
   },
   "outputs": [],
   "source": [
    "interactions = pd.read_csv('data_kion/interactions_df.csv')\n",
    "users = pd.read_csv('data_kion/users.csv')\n",
    "items = pd.read_csv('data_kion/items.csv')"
   ]
  },
  {
   "cell_type": "code",
   "execution_count": 6,
   "metadata": {
    "colab": {
     "base_uri": "https://localhost:8080/",
     "height": 206
    },
    "id": "OIYgzmwScxzj",
    "outputId": "eaa7e3ba-2285-4ae7-a428-09677771fe53"
   },
   "outputs": [
    {
     "data": {
      "text/html": [
       "<div>\n",
       "<style scoped>\n",
       "    .dataframe tbody tr th:only-of-type {\n",
       "        vertical-align: middle;\n",
       "    }\n",
       "\n",
       "    .dataframe tbody tr th {\n",
       "        vertical-align: top;\n",
       "    }\n",
       "\n",
       "    .dataframe thead th {\n",
       "        text-align: right;\n",
       "    }\n",
       "</style>\n",
       "<table border=\"1\" class=\"dataframe\">\n",
       "  <thead>\n",
       "    <tr style=\"text-align: right;\">\n",
       "      <th></th>\n",
       "      <th>user_id</th>\n",
       "      <th>item_id</th>\n",
       "      <th>last_watch_dt</th>\n",
       "      <th>total_dur</th>\n",
       "      <th>watched_pct</th>\n",
       "    </tr>\n",
       "  </thead>\n",
       "  <tbody>\n",
       "    <tr>\n",
       "      <th>0</th>\n",
       "      <td>176549</td>\n",
       "      <td>9506</td>\n",
       "      <td>2021-05-11</td>\n",
       "      <td>4250</td>\n",
       "      <td>72.0</td>\n",
       "    </tr>\n",
       "    <tr>\n",
       "      <th>1</th>\n",
       "      <td>699317</td>\n",
       "      <td>1659</td>\n",
       "      <td>2021-05-29</td>\n",
       "      <td>8317</td>\n",
       "      <td>100.0</td>\n",
       "    </tr>\n",
       "    <tr>\n",
       "      <th>2</th>\n",
       "      <td>656683</td>\n",
       "      <td>7107</td>\n",
       "      <td>2021-05-09</td>\n",
       "      <td>10</td>\n",
       "      <td>0.0</td>\n",
       "    </tr>\n",
       "    <tr>\n",
       "      <th>3</th>\n",
       "      <td>864613</td>\n",
       "      <td>7638</td>\n",
       "      <td>2021-07-05</td>\n",
       "      <td>14483</td>\n",
       "      <td>100.0</td>\n",
       "    </tr>\n",
       "    <tr>\n",
       "      <th>4</th>\n",
       "      <td>964868</td>\n",
       "      <td>9506</td>\n",
       "      <td>2021-04-30</td>\n",
       "      <td>6725</td>\n",
       "      <td>100.0</td>\n",
       "    </tr>\n",
       "  </tbody>\n",
       "</table>\n",
       "</div>"
      ],
      "text/plain": [
       "   user_id  item_id last_watch_dt  total_dur  watched_pct\n",
       "0   176549     9506    2021-05-11       4250         72.0\n",
       "1   699317     1659    2021-05-29       8317        100.0\n",
       "2   656683     7107    2021-05-09         10          0.0\n",
       "3   864613     7638    2021-07-05      14483        100.0\n",
       "4   964868     9506    2021-04-30       6725        100.0"
      ]
     },
     "execution_count": 6,
     "metadata": {},
     "output_type": "execute_result"
    }
   ],
   "source": [
    "interactions.head(5)\n",
    "\n",
    "# user_id - уникальный идентификатор пользователя\n",
    "# item_id - уникальный идентификатор контента\n",
    "# last_watch_dt - последняя дата просмотра юзером определенного контента\n",
    "# total_dur - суммарная продолжительность просмотра определенного контента юзером (в секундах)\n",
    "# watched_pct - процент просмотренного контента от общей продолжительности"
   ]
  },
  {
   "cell_type": "code",
   "execution_count": 21,
   "metadata": {
    "colab": {
     "base_uri": "https://localhost:8080/"
    },
    "id": "fsZYnCRhC0Vv",
    "outputId": "558dda48-479b-4848-9b32-81f48d88616e"
   },
   "outputs": [
    {
     "name": "stdout",
     "output_type": "stream",
     "text": [
      "Уникальных юзеров в interactions: 962_179\n",
      "Уникальных айтемов в interactions: 15_706\n"
     ]
    },
    {
     "name": "stderr",
     "output_type": "stream",
     "text": [
      "/var/folders/t3/409cw_p51s3_b296bytqrv3x8ch15l/T/ipykernel_29434/2769211251.py:13: FutureWarning: The provided callable <built-in function sum> is currently using SeriesGroupBy.sum. In a future version of pandas, the provided callable will be used directly. To keep current behavior pass the string \"sum\" instead.\n",
      "  week = week.groupby('user_id', as_index=False).agg({'total_dur': sum})\n",
      "/var/folders/t3/409cw_p51s3_b296bytqrv3x8ch15l/T/ipykernel_29434/2769211251.py:17: FutureWarning: The provided callable <built-in function sum> is currently using SeriesGroupBy.sum. In a future version of pandas, the provided callable will be used directly. To keep current behavior pass the string \"sum\" instead.\n",
      "  two_week = two_week.groupby('user_id', as_index=False).agg({'total_dur': sum})\n"
     ]
    }
   ],
   "source": [
    "# предобработка данных\n",
    "interactions['last_watch_dt'] = pd.to_datetime(interactions['last_watch_dt']).map(lambda x: x.date())\n",
    "interactions['user_id'] = interactions['user_id'].astype(str)\n",
    "\n",
    "print(f\"Уникальных юзеров в interactions: {interactions['user_id'].nunique():_}\")\n",
    "print(f\"Уникальных айтемов в interactions: {interactions['item_id'].nunique():_}\")\n",
    "\n",
    "max_date = interactions['last_watch_dt'].max()\n",
    "min_date = interactions['last_watch_dt'].min()\n",
    "\n",
    "# выделим данные за одну (последнюю) неделю\n",
    "week = interactions[interactions['last_watch_dt'] >= max_date - datetime.timedelta(days=7)]\n",
    "week = week.groupby('user_id', as_index=False).agg({'total_dur': sum})\n",
    "\n",
    "# выделим данные за последние 2 недели\n",
    "two_week = interactions[interactions['last_watch_dt'] >= max_date - datetime.timedelta(days=14)]\n",
    "two_week = two_week.groupby('user_id', as_index=False).agg({'total_dur': sum})"
   ]
  },
  {
   "cell_type": "code",
   "execution_count": 22,
   "metadata": {
    "id": "qw4gWD2aNVnA"
   },
   "outputs": [],
   "source": [
    "# уберем выбросы 3std\n",
    "two_week = two_week[(two_week['total_dur'] < two_week['total_dur'].std() * 3)]\n",
    "week = week[(week['total_dur'] < week['total_dur'].std() * 3)]"
   ]
  },
  {
   "cell_type": "markdown",
   "metadata": {},
   "source": [
    "# дизайн теста бутстреп"
   ]
  },
  {
   "cell_type": "code",
   "execution_count": null,
   "metadata": {
    "id": "iRZR4Oojtmz1"
   },
   "outputs": [],
   "source": [
    "def salt_generator(salt=None):\n",
    "    import os\n",
    "    from base64 import b64encode\n",
    "    # генерируем случайный \"соль\" - строку для хэширования, чтобы при разных итерациях \n",
    "    # пользователи по-разному распределялись между группами\n",
    "    # 8 рандомных байт превращаем в строку\n",
    "    salt = os.urandom(8)\n",
    "    return b64encode(salt).decode('ascii')\n",
    "\n",
    "\n",
    "def groups_splitter(df, columns, user_salt=None):\n",
    "    '''\n",
    "    Функция делит пользователей на 2 группы (A и B) исходя из user_id + соль.\n",
    "    '''\n",
    "    if user_salt is None:\n",
    "        salt = salt_generator()\n",
    "    else:\n",
    "        salt = user_salt\n",
    "\n",
    "    # создаём хеш на основе user_id и соли.\n",
    "    df['hash'] = (df['user_id'].astype(str) + '#' + salt).apply(\n",
    "        lambda x: hashlib.sha256(x.encode('utf-8')).hexdigest()\n",
    "    )\n",
    "\n",
    "    # берём последние 6 символов хеша, переводим в число int с base=16 (шестнадцатеричное)\n",
    "    # далее берем остаток от деления на 2, если 0 - группа A, если 1 - группа B.\n",
    "    df['group'] = (df['hash'].str.slice(start=-6).apply(int, base=16) % 2).map(\n",
    "        lambda x: 'A' if x == 0 else 'B'\n",
    "    )\n",
    "\n",
    "    # возвращаем только нужные столбцы и убираем дубликаты, чтобы не было повторений\n",
    "    return df[columns].drop_duplicates()\n",
    "\n",
    "\n",
    "def bootstrap_means_torch(vec, size=1000):\n",
    "    '''\n",
    "    Бутстрепим данные с помощью PyTorch (ускорение)\n",
    "    '''\n",
    "    n = vec.shape[0]\n",
    "    # генерируем индексы для бутстрепа: для каждой из size итераций берём n сэмплов с возвращением\n",
    "    bootstrap_indices = torch.randint(0, n, (size, n), device=vec.device)\n",
    "    # собираем выборки по индексам и возвращаем среднее по каждой бутстреп-выборке\n",
    "    sampled = vec[bootstrap_indices]\n",
    "    return sampled.mean(dim=1)\n",
    "\n",
    "\n",
    "def get_p_value(dist):\n",
    "    # p-value через перестановочный бутстреп: доля случаев, когда разница > 0 (или <0), умноженная на 2\n",
    "    dist = np.array(dist)\n",
    "    x = (dist > 0).mean()\n",
    "    pvalue = min(x, 1 - x) * 2\n",
    "    return pvalue"
   ]
  },
  {
   "cell_type": "markdown",
   "metadata": {
    "id": "shWTKZreuYut"
   },
   "source": [
    "## валидируем корректноcть"
   ]
  },
  {
   "cell_type": "code",
   "execution_count": null,
   "metadata": {
    "id": "zq2r16mEuPvI"
   },
   "outputs": [],
   "source": [
    "def process_single_iteration(week, salt_generator, groups_splitter, bias=0.0):\n",
    "    \"\"\"\n",
    "    Одна итерация теста корректности с использованием GPU\n",
    "    \"\"\"\n",
    "    # Применяем groups_splitter - это узкое место, оптимизация возможна если внутри него есть большие затраты\n",
    "    new_df = groups_splitter(\n",
    "        week,\n",
    "        columns=['user_id', 'total_dur', 'group'],\n",
    "        user_salt=salt_generator()\n",
    "    ).drop_duplicates()\n",
    "    \n",
    "    if bias != 0.0:\n",
    "        new_df.loc[new_df['group'] == 'B', 'total_dur'] = (\n",
    "            new_df.loc[new_df['group'] == 'B', 'total_dur'] * (1.0 + bias)\n",
    "        ).astype(new_df['total_dur'].dtype)\n",
    "\n",
    "    mask_a = (new_df['group'].values == 'A')\n",
    "    mask_b = (new_df['group'].values == 'B')\n",
    "    \n",
    "    device = 'cuda' if torch.cuda.is_available() else 'cpu'\n",
    "    vec_a = torch.tensor(new_df['total_dur'].values[mask_a].astype(np.float32), device=device)\n",
    "    vec_b = torch.tensor(new_df['total_dur'].values[mask_b].astype(np.float32), device=device)\n",
    "\n",
    "    # бутстрап средних на GPU\n",
    "    sample_a_mean = bootstrap_means_torch(vec_a, size=1000)\n",
    "    sample_b_mean = bootstrap_means_torch(vec_b, size=1000)\n",
    "\n",
    "    diff_means = sample_a_mean - sample_b_mean\n",
    "\n",
    "    # используем sort и индексирование для получения 2.5 и 97.5 перцентилей (=95й доверительный интервал)\n",
    "    sorted_diff = torch.sort(diff_means).values\n",
    "    left_side = sorted_diff[int(0.025 * 1000)]\n",
    "    right_side = sorted_diff[int(0.975 * 1000)]\n",
    "\n",
    "    return diff_means, not (left_side <= 0 <= right_side)\n",
    "\n",
    "\n",
    "def run_correction(df: pd.DataFrame, df_name: str, size: int=50):\n",
    "    start_time = time.time()\n",
    "    values = []\n",
    "    correctness = []\n",
    "    for _ in tqdm(range(size), desc=\"Processing iterations\"):\n",
    "        diff_means, res = process_single_iteration(df, salt_generator, groups_splitter)\n",
    "        correctness.append(res)\n",
    "        values.append(diff_means)\n",
    "\n",
    "    test_correctness = collections.Counter(correctness)\n",
    "    significance = test_correctness[True] / (test_correctness[True] + test_correctness[False]) * 100\n",
    "\n",
    "    end_time = time.time()\n",
    "    print(f'significance {df_name}: {significance}%')\n",
    "    print(f'время выполнения {df_name}: {end_time - start_time:.2f} секунд')\n",
    "    return values, correctness"
   ]
  },
  {
   "cell_type": "code",
   "execution_count": 38,
   "metadata": {
    "colab": {
     "base_uri": "https://localhost:8080/"
    },
    "id": "Tx_rLXWqWK3i",
    "outputId": "ba4903e9-fece-4850-b4df-88c9f9ed17a9"
   },
   "outputs": [
    {
     "name": "stderr",
     "output_type": "stream",
     "text": [
      "Processing iterations: 100%|██████████| 50/50 [00:53<00:00,  1.07s/it]\n"
     ]
    },
    {
     "name": "stdout",
     "output_type": "stream",
     "text": [
      "significance one_week_50iters: 2.0%\n",
      "Время выполнения one_week_50iters: 53.38 секунд\n"
     ]
    },
    {
     "name": "stderr",
     "output_type": "stream",
     "text": [
      "Processing iterations: 100%|██████████| 1000/1000 [17:14<00:00,  1.03s/it]\n"
     ]
    },
    {
     "name": "stdout",
     "output_type": "stream",
     "text": [
      "significance one_week_1000iters: 4.8%\n",
      "Время выполнения one_week_1000iters: 1034.39 секунд\n"
     ]
    },
    {
     "name": "stderr",
     "output_type": "stream",
     "text": [
      "Processing iterations: 100%|██████████| 1000/1000 [26:14<00:00,  1.57s/it]"
     ]
    },
    {
     "name": "stdout",
     "output_type": "stream",
     "text": [
      "significance two_week_1000iters: 5.1%\n",
      "Время выполнения two_week_1000iters: 1575.00 секунд\n"
     ]
    },
    {
     "name": "stderr",
     "output_type": "stream",
     "text": [
      "\n"
     ]
    }
   ],
   "source": [
    "values_week_s, correctness_week_s = run_correction(week, 'one_week_50iters', size=50)\n",
    "values_week, correctness_week = run_correction(week, 'one_week_1000iters', size=1000)\n",
    "values_two_week, correctness_two_week = run_correction(two_week, 'two_week_1000iters', size=1000)"
   ]
  },
  {
   "cell_type": "markdown",
   "metadata": {},
   "source": [
    "объяснение:\n",
    "- на 50 итерациях одной недели 2% - это очень хороший процент ошибки, т.е. всего один из 50 тестов провалился\n",
    "- при увеличении до 1000 процент подрастает, 48 тестов провалились, но это все еще ок\n",
    "- при увеличении данных до 2х недель корректность (альфа) составила около 5%, что вполне уместно; слабое изменение в сравнении с промежутком в неделю говорит о том, что данные достаточно однородные и с ними можно работать\n",
    "\n",
    "видим, что процент ошибок увеличивается с ростом итераций, но это может быть и погрешностью; все равно довольно маленький и приемлемый процент, как раз то, что и хочется получить от альфы (0.05)"
   ]
  },
  {
   "cell_type": "code",
   "execution_count": 39,
   "metadata": {
    "id": "nOV7NjGuuUNv"
   },
   "outputs": [],
   "source": [
    "p_values_week_s = [get_p_value(dist) for dist in values_week_s]\n",
    "p_values_week = [get_p_value(dist) for dist in values_week]\n",
    "p_values_two_week = [get_p_value(dist) for dist in values_two_week]"
   ]
  },
  {
   "cell_type": "code",
   "execution_count": 40,
   "metadata": {
    "id": "D9BK7LG-ueZ3"
   },
   "outputs": [
    {
     "data": {
      "image/png": "[encoded data removed]",
      "text/plain": [
       "<Figure size 1200x400 with 3 Axes>"
      ]
     },
     "metadata": {},
     "output_type": "display_data"
    }
   ],
   "source": [
    "%matplotlib inline\n",
    "fig, axes = plt.subplots(1, 3, figsize=(12, 4))\n",
    "\n",
    "axes[0].hist(p_values_week_s, bins=10, color='purple')\n",
    "axes[0].set_title(\"Бутстреп распределение p_value (1 неделя, 50 итераций)\")\n",
    "axes[0].set_xlabel(\"p-value\")\n",
    "axes[0].set_ylabel(\"Frequency\")\n",
    "\n",
    "axes[1].hist(p_values_week, bins=10, color='purple')\n",
    "axes[1].set_title(\"Бутстреп распределение p_value (1 неделя, 1000 итераций)\")\n",
    "axes[1].set_xlabel(\"p-value\")\n",
    "axes[1].set_ylabel(\"Frequency\")\n",
    "\n",
    "axes[2].hist(p_values_two_week, bins=10, color='blue')\n",
    "axes[2].set_title(\"Бутстреп распределение p_value (2 недели)\")\n",
    "axes[2].set_xlabel(\"p-value\")\n",
    "axes[2].set_ylabel(\"Frequency\")\n",
    "plt.tight_layout()"
   ]
  },
  {
   "cell_type": "markdown",
   "metadata": {},
   "source": [
    "по графикам все +- норм для 1000 итераций, слишком сильных выбросов нигде не видно; на 50 итерациях график шатает очень сильно, сложно какой-то вывод делать (только о том, что надо больше итераций)\n",
    "\n",
    "двухнедельный график более равномерный, потому что охватывает сразу два недельных цикла"
   ]
  },
  {
   "cell_type": "markdown",
   "metadata": {
    "id": "w8E7DRW-X2lL"
   },
   "source": [
    "## валидируем мощность"
   ]
  },
  {
   "cell_type": "code",
   "execution_count": 71,
   "metadata": {
    "colab": {
     "base_uri": "https://localhost:8080/"
    },
    "id": "INUQRXYf0db-",
    "outputId": "7825675d-7efc-43a5-ee2f-02dc6c0b51dd"
   },
   "outputs": [
    {
     "name": "stderr",
     "output_type": "stream",
     "text": [
      "Processing iterations: 100%|██████████| 1000/1000 [27:47<00:00,  1.67s/it]\n"
     ]
    },
    {
     "name": "stdout",
     "output_type": "stream",
     "text": [
      "power two_week_01: 31.2%\n",
      "Время выполнения two_week_01: 1667.93 секунд\n"
     ]
    },
    {
     "name": "stderr",
     "output_type": "stream",
     "text": [
      "Processing iterations: 100%|██████████| 1000/1000 [27:16<00:00,  1.64s/it]\n"
     ]
    },
    {
     "name": "stdout",
     "output_type": "stream",
     "text": [
      "power two_week_03: 99.0%\n",
      "Время выполнения two_week_03: 1636.80 секунд\n"
     ]
    },
    {
     "name": "stderr",
     "output_type": "stream",
     "text": [
      "Processing iterations: 100%|██████████| 1000/1000 [26:42<00:00,  1.60s/it]"
     ]
    },
    {
     "name": "stdout",
     "output_type": "stream",
     "text": [
      "power two_week_05: 100.0%\n",
      "Время выполнения two_week_05: 1602.60 секунд\n"
     ]
    },
    {
     "name": "stderr",
     "output_type": "stream",
     "text": [
      "\n"
     ]
    }
   ],
   "source": [
    "def run_correction(df: pd.DataFrame, df_name: str, size: int=1000, bias: float=0.0):\n",
    "    start_time = time.time()\n",
    "    power = []\n",
    "    with tqdm(range(size), desc=\"Processing iterations\", dynamic_ncols=True, leave=True) as pbar:\n",
    "        for _ in pbar:\n",
    "            diff_means, power_i = process_single_iteration(df, salt_generator, groups_splitter, bias=bias)\n",
    "            power.append(power_i)\n",
    "\n",
    "    test_power = collections.Counter(power)\n",
    "    end_time = time.time()\n",
    "    print(f'power {df_name}: {test_power[1]/(test_power[1] + test_power[0])*100}%')\n",
    "    print(f'Время выполнения {df_name}: {end_time - start_time:.2f} секунд')\n",
    "    return power\n",
    "\n",
    "power_01 = run_correction(two_week, 'two_week_01', 1000, 0.01)\n",
    "power_03 = run_correction(two_week, 'two_week_03', 1000, 0.03)\n",
    "power_05 = run_correction(two_week, 'two_week_05', 1000, 0.05)"
   ]
  },
  {
   "cell_type": "markdown",
   "metadata": {},
   "source": [
    "Логических ошибок нет - чем больше добавляемый эффект, тем больше мощность (те чем больше реальная разница, которую я пытаюсь уловить, тем выше вероятность, что статистические методы посчитают эту разницу значимой)\n",
    "\n",
    "5% - слишком много, как оказывается; мощность получается 100% - т.е. всегда обнаруживается эффект) "
   ]
  },
  {
   "cell_type": "code",
   "execution_count": null,
   "metadata": {},
   "outputs": [
    {
     "name": "stdout",
     "output_type": "stream",
     "text": [
      "MDE: 78.88\n",
      "MDE: 230.93\n",
      "MDE: inf\n"
     ]
    }
   ],
   "source": [
    "def get_mde(metric_vec, alpha=0.05, beta=0.2):\n",
    "\n",
    "    metric_mean, metric_std, metric_n = metric_vec.mean(), metric_vec.std(), metric_vec.count()\n",
    "\n",
    "    z_alpha = norm.ppf(1 - (alpha / 2), loc=0, scale=1)\n",
    "    z_beta = norm.ppf(1 - beta, loc=0, scale=1)\n",
    "\n",
    "    mde = (z_alpha + z_beta)*metric_std / np.sqrt(metric_n)\n",
    "    print(f'MDE: {mde:.2f}')\n",
    "    return mde*100/metric_mean\n",
    "\n",
    "corr_two_week_counter = collections.Counter(correctness_two_week)\n",
    "alpha = corr_two_week_counter[True] / (corr_two_week_counter[True] + corr_two_week_counter[False])\n",
    "\n",
    "# beta = 1 - power\n",
    "power_two_week_counter = collections.Counter(power_05)\n",
    "beta05 = 1 - (power_two_week_counter[True] / (power_two_week_counter[True] + power_two_week_counter[False]))\n",
    "power_two_week_counter = collections.Counter(power_03)\n",
    "beta03 = 1 - (power_two_week_counter[True] / (power_two_week_counter[True] + power_two_week_counter[False]))\n",
    "power_two_week_counter = collections.Counter(power_01)\n",
    "beta01 = 1 - (power_two_week_counter[True] / (power_two_week_counter[True] + power_two_week_counter[False]))\n",
    "\n",
    "# почитаем MDE\n",
    "mde01 = get_mde(two_week['total_dur'], alpha=alpha, beta=beta01)\n",
    "mde03 = get_mde(two_week['total_dur'], alpha=alpha, beta=beta03)\n",
    "mde05 = get_mde(two_week['total_dur'], alpha=alpha, beta=beta05)\n"
   ]
  },
  {
   "cell_type": "code",
   "execution_count": 80,
   "metadata": {},
   "outputs": [
    {
     "data": {
      "text/plain": [
       "np.float64(16222.438029722513)"
      ]
     },
     "execution_count": 80,
     "metadata": {},
     "output_type": "execute_result"
    }
   ],
   "source": [
    "two_week['total_dur'].mean()"
   ]
  },
  {
   "cell_type": "code",
   "execution_count": null,
   "metadata": {},
   "outputs": [],
   "source": [
    "# MDE вполне вменяемое по масштабам  и понятное: чем БОЛЬШЕ мощность тем МЕНЬШЕ MDE;\n",
    "# чем больше мощность => тем более чувствителен тест к изменениям => тем меньшие изменения нужны для фиксации результата"
   ]
  },
  {
   "cell_type": "markdown",
   "metadata": {},
   "source": [
    "# Дизайн продолжение"
   ]
  },
  {
   "cell_type": "code",
   "execution_count": null,
   "metadata": {},
   "outputs": [
    {
     "name": "stderr",
     "output_type": "stream",
     "text": [
      "100%|██████████| 1000/1000 [28:08<00:00,  1.69s/it]\n",
      "100%|██████████| 1000/1000 [27:06<00:00,  1.63s/it]\n",
      "100%|██████████| 1000/1000 [26:30<00:00,  1.59s/it]\n",
      "100%|██████████| 1000/1000 [26:29<00:00,  1.59s/it]\n",
      "100%|██████████| 1000/1000 [26:06<00:00,  1.57s/it]\n",
      "100%|██████████| 1000/1000 [26:27<00:00,  1.59s/it]\n",
      "100%|██████████| 1000/1000 [26:25<00:00,  1.59s/it]\n",
      "100%|██████████| 1000/1000 [26:23<00:00,  1.58s/it]\n",
      "100%|██████████| 1000/1000 [09:12<00:00,  1.81it/s]\n",
      "100%|██████████| 1000/1000 [09:45<00:00,  1.71it/s]\n",
      "100%|██████████| 1000/1000 [09:43<00:00,  1.71it/s]\n",
      "100%|██████████| 1000/1000 [09:43<00:00,  1.71it/s]\n",
      "100%|██████████| 1000/1000 [09:21<00:00,  1.78it/s]\n",
      "100%|██████████| 1000/1000 [09:43<00:00,  1.71it/s]\n",
      "100%|██████████| 1000/1000 [09:45<00:00,  1.71it/s]\n",
      "100%|██████████| 1000/1000 [09:47<00:00,  1.70it/s]\n",
      "100%|██████████| 1000/1000 [08:54<00:00,  1.87it/s]\n",
      "100%|██████████| 1000/1000 [09:18<00:00,  1.79it/s]\n",
      "100%|██████████| 1000/1000 [09:12<00:00,  1.81it/s]\n",
      "100%|██████████| 1000/1000 [09:10<00:00,  1.82it/s]\n",
      "100%|██████████| 1000/1000 [08:46<00:00,  1.90it/s]\n",
      "100%|██████████| 1000/1000 [09:11<00:00,  1.81it/s]\n",
      "100%|██████████| 1000/1000 [09:11<00:00,  1.81it/s]\n",
      "100%|██████████| 1000/1000 [09:09<00:00,  1.82it/s]\n"
     ]
    }
   ],
   "source": [
    "def test_bootstrap(vec_a, vec_b, alpha=0.05, size=1000):\n",
    "    '''\n",
    "    Бутстрепный тест: генерируем бутстрепные распределения для A и B, смотрим разницу средних,\n",
    "    формируем доверительный интервал и проверяем, пересекает ли он 0.\n",
    "    '''\n",
    "    sample_a_mean = bootstrap_means_torch(vec_a, size=size)\n",
    "    sample_b_mean = bootstrap_means_torch(vec_b, size=size)\n",
    "    diff_means = sample_a_mean - sample_b_mean\n",
    "    # сортируем, чтобы взять квантили\n",
    "    sorted_diff = torch.sort(diff_means).values\n",
    "    left_side = sorted_diff[int(0.025 * size)]\n",
    "    right_side = sorted_diff[int(0.975 * size)]\n",
    "\n",
    "    # если интервал не включает 0 - значит статистически значимо\n",
    "    res = not (left_side <= 0 <= right_side)\n",
    "\n",
    "    # p-value бутстрэпа\n",
    "    diff_array = diff_means.cpu().numpy()\n",
    "    p = get_p_value(diff_array)\n",
    "    return diff_array, p, res\n",
    "\n",
    "\n",
    "def test_mannwhitney(vec_a, vec_b, alpha=0.05):\n",
    "    '''\n",
    "    тест Манна-Уитни\n",
    "    '''\n",
    "    a_cpu = vec_a.cpu().numpy()\n",
    "    b_cpu = vec_b.cpu().numpy()\n",
    "    stat, p = mannwhitneyu(a_cpu, b_cpu, alternative='two-sided')\n",
    "    diff_means = a_cpu.mean() - b_cpu.mean()\n",
    "    res = (p < alpha) # если p-value меньше уровня значимости - отвергаем нулевую гипотезу\n",
    "    return np.array([diff_means]), p, res\n",
    "\n",
    "\n",
    "def test_ttest(vec_a, vec_b, alpha=0.05):\n",
    "    '''\n",
    "    t-тест Стьюдента\n",
    "    '''\n",
    "    a_cpu = vec_a.cpu().numpy()\n",
    "    b_cpu = vec_b.cpu().numpy()\n",
    "    stat, p = ttest_ind(a_cpu, b_cpu, equal_var=False)\n",
    "    diff_means = a_cpu.mean() - b_cpu.mean()\n",
    "    res = (p < alpha) # аналогично, как в test_mannwhitneyu\n",
    "    return np.array([diff_means]), p, res\n",
    "\n",
    "\n",
    "def process_single_iteration(\n",
    "    df, \n",
    "    salt_generator, \n",
    "    groups_splitter, \n",
    "    bias=0.0, \n",
    "    test_type='bootstrap', \n",
    "    transform='original'\n",
    "):\n",
    "    '''\n",
    "    Одна итерация эксперимента:\n",
    "    1. рандомно делим пользователей на группы (через groups_splitter);\n",
    "    2. прибавляем эффект к группе B, если bias != 0;\n",
    "    3. применяем трансформацию метрики (логарифмирование) если transform='log';\n",
    "    4. применяем статистический тест (бутстреп/Манна-Уитни/t-тест).\n",
    "    '''\n",
    "    new_df = groups_splitter(\n",
    "        df.copy(),\n",
    "        columns=['user_id', 'total_dur', 'group'],\n",
    "        user_salt=salt_generator()\n",
    "    ).drop_duplicates()\n",
    "\n",
    "    # добавляем эффект в группу B - это искусственное внесение разницы в данные\n",
    "    if bias != 0.0:\n",
    "        new_df.loc[new_df['group'] == 'B', 'total_dur'] = (\n",
    "            new_df.loc[new_df['group'] == 'B', 'total_dur'] * (1.0 + bias)\n",
    "        ).astype(new_df['total_dur'].dtype)\n",
    "\n",
    "    # применяем трансформацию метрики. Если transform='log', то логарифмируем, иначе без изменений\n",
    "    if transform == 'log':\n",
    "        new_df['metric'] = np.log2(new_df['total_dur'])\n",
    "    else:\n",
    "        new_df['metric'] = new_df['total_dur']\n",
    "\n",
    "    # создаем маски для групп\n",
    "    mask_a = (new_df['group'].values == 'A')\n",
    "    mask_b = (new_df['group'].values == 'B')\n",
    "\n",
    "    # используем GPU если доступна\n",
    "    device = 'cuda' if torch.cuda.is_available() else 'cpu'\n",
    "    vec_a = torch.tensor(new_df['metric'].values[mask_a].astype(np.float32), device=device)\n",
    "    vec_b = torch.tensor(new_df['metric'].values[mask_b].astype(np.float32), device=device)\n",
    "\n",
    "    # вызываем выбранный тест\n",
    "    if test_type == 'bootstrap':\n",
    "        diff_means, p, res = test_bootstrap(vec_a, vec_b)\n",
    "    elif test_type == 'mannwhitney':\n",
    "        diff_means, p, res = test_mannwhitney(vec_a, vec_b)\n",
    "    elif test_type == 'ttest':\n",
    "        diff_means, p, res = test_ttest(vec_a, vec_b)\n",
    "    else:\n",
    "        raise ValueError(\"Unknown test_type\")\n",
    "\n",
    "    return diff_means, p, res\n",
    "\n",
    "\n",
    "def run_experiment(\n",
    "    df: pd.DataFrame,\n",
    "    test_type='bootstrap',\n",
    "    transform='original',\n",
    "    size: int=1000,\n",
    "    bias: float=0.0\n",
    "):\n",
    "    '''\n",
    "    Функция, запускающая серию экспериментов (size итераций),\n",
    "    каждый раз заново формируя группы, добавляя при необходимости bias, \n",
    "    применяя трансформацию и тест и собирая результаты.\n",
    "    '''\n",
    "    results = []\n",
    "    iteration_data = []\n",
    "\n",
    "    for i in tqdm(range(size)):\n",
    "        diff_means, p, res = process_single_iteration(\n",
    "            df, salt_generator, groups_splitter, bias=bias, \n",
    "            test_type=test_type, transform=transform\n",
    "        )\n",
    "        # сохраняем самые важные данные о текущей итерации\n",
    "        iteration_data.append({\n",
    "            'test_type': test_type,\n",
    "            'transform': transform,\n",
    "            'bias': bias,\n",
    "            'iteration': i,\n",
    "            'p_value': p,\n",
    "            'result': res\n",
    "        })\n",
    "        results.append(res)\n",
    "\n",
    "    # подсчёт доли итераций, на которых тест дал значимость (True)\n",
    "    test_counter = collections.Counter(results)\n",
    "    if (test_counter[True] + test_counter[False]) == 0:\n",
    "        significance = 0.0\n",
    "    else:\n",
    "        significance = test_counter[True] / (test_counter[True] + test_counter[False])\n",
    "\n",
    "    # significance при bias=0 - это корректность, уровень ошибки (alpha_emp) или доля ложных срабатываний\n",
    "    # при bias>0 - это оценка мощности (power) или доля верно отклоненных нулевых гипотез\n",
    "    # нам хочется видеть мощность как можно ближе к 1, а ошибку как можно ближе к 0\n",
    "    # мощность это по сути 1 - beta, где beta - ошибка второго рода, то есть доля ложно отклоненных нулевых гипотез\n",
    "    return iteration_data, significance\n",
    "\n",
    "\n",
    "def full_design(\n",
    "    df,\n",
    "    test_types=['bootstrap', 'mannwhitney', 'ttest'],\n",
    "    transforms=['original', 'log'],\n",
    "    biases=[0.01, 0.03, 0.05],\n",
    "    size=1000\n",
    "):\n",
    "    '''\n",
    "    Функция запускает серию экспериментов для разных тестов, трансформаций и эффектов (bias)\n",
    "    '''\n",
    "    all_iterations = []\n",
    "    summary = []\n",
    "\n",
    "    for test_type in test_types:\n",
    "        for transform in transforms:\n",
    "            # для bias=0 считаем эмпирическое alpha, для bias>0 считаем мощность и MDE\n",
    "            \n",
    "            # сначала при bias=0 оцениваем корректность теста (alpha_emp)\n",
    "            # alpha_emp - потому что альфа по факту эмпирическая, мы её оцениваем по прошлым данным\n",
    "            iteration_data_0, alpha_emp = run_experiment(df, test_type=test_type, transform=transform, size=size, bias=0.0)\n",
    "            all_iterations.extend(iteration_data_0)\n",
    "\n",
    "            # для каждого уровня эффекта считаем мощность (power) и MDE\n",
    "            for b in [b for b in biases if b > 0]:\n",
    "                iteration_data_b, power = run_experiment(df, test_type=test_type, transform=transform, size=size, bias=b)\n",
    "                all_iterations.extend(iteration_data_b)\n",
    "                beta = 1 - power\n",
    "                \n",
    "                # тут MDE считается на основе alpha_emp и beta, который мы получили по данным\n",
    "                if transform == 'log': # если логарифмировали, то MDE тоже в логарифме\n",
    "                    mde = get_mde(np.log2(df['total_dur']), alpha=alpha_emp, beta=beta)\n",
    "                else:\n",
    "                    mde = get_mde(df['total_dur'], alpha=alpha_emp, beta=beta)\n",
    "\n",
    "                summary.append({\n",
    "                    'test_type': test_type,\n",
    "                    'transform': transform,\n",
    "                    'bias': b,\n",
    "                    'alpha': alpha_emp,\n",
    "                    'power': power,\n",
    "                    'beta': beta,\n",
    "                    'MDE': mde # может получиться бесконечность, если alpha_emp или beta очень маленькие\n",
    "                })\n",
    "\n",
    "    iteration_results_df = pd.DataFrame(all_iterations)\n",
    "    summary_results_df = pd.DataFrame(summary)\n",
    "\n",
    "    return iteration_results_df, summary_results_df\n",
    "\n",
    "\n",
    "# запуск полной схемы экспериментов\n",
    "iteration_results_df, summary_results_df = full_design(two_week)\n",
    "# iteration_results_df со столбцами [test_type, transform, bias, iteration, p_value, result]\n",
    "# summary_results_df со столбцами [test_type, transform, bias, alpha, power, beta, MDE]"
   ]
  },
  {
   "cell_type": "code",
   "execution_count": null,
   "metadata": {},
   "outputs": [
    {
     "data": {
      "image/png": "[encoded data removed]",
      "text/plain": [
       "<Figure size 1200x400 with 3 Axes>"
      ]
     },
     "metadata": {},
     "output_type": "display_data"
    }
   ],
   "source": [
    "%matplotlib inline\n",
    "test_types = iteration_results_df['test_type'].unique()\n",
    "fig, axes = plt.subplots(1, len(test_types), figsize=(12,4), sharey=True)\n",
    "\n",
    "for ax, t in zip(axes, test_types):\n",
    "    subset = iteration_results_df[iteration_results_df['test_type'] == t]\n",
    "    sns.histplot(data=subset, x='p_value', hue='transform', multiple='stack', bins=20, ax=ax)\n",
    "    ax.set_title(f\"p-value для {t}\")\n",
    "    ax.set_xlabel(\"p-value\")\n",
    "    if ax == axes[0]:\n",
    "        ax.set_ylabel(\"Частота\")\n",
    "    else:\n",
    "        ax.set_ylabel(\"\")\n",
    "plt.tight_layout()\n",
    "\n",
    "# исходя из графиков видны огромные пики в p-value = 0, что говорит о том, что может эффект добавлений был слишком большим"
   ]
  },
  {
   "cell_type": "code",
   "execution_count": null,
   "metadata": {},
   "outputs": [
    {
     "data": {
      "image/png": "[encoded data removed]",
      "text/plain": [
       "<Figure size 1200x400 with 3 Axes>"
      ]
     },
     "metadata": {},
     "output_type": "display_data"
    }
   ],
   "source": [
    "test_types = iteration_results_df['test_type'].unique()\n",
    "fig, axes = plt.subplots(1, len(test_types), figsize=(12,4), sharey=True)\n",
    "\n",
    "for ax, t in zip(axes, test_types):\n",
    "    subset = iteration_results_df[iteration_results_df['test_type'] == t]\n",
    "    subset = subset[subset['p_value'] > 0.1] # отфильтруем p-value около 0\n",
    "    sns.histplot(data=subset, x='p_value', hue='transform', multiple='stack', bins=20, ax=ax)\n",
    "    ax.set_title(f\"p-value для {t}\")\n",
    "    ax.set_xlabel(\"p-value\")\n",
    "    if ax == axes[0]:\n",
    "        ax.set_ylabel(\"Частота\")\n",
    "    else:\n",
    "        ax.set_ylabel(\"\")\n",
    "\n",
    "plt.tight_layout()\n",
    "plt.show()"
   ]
  },
  {
   "cell_type": "markdown",
   "metadata": {},
   "source": [
    "видим, что логарифмирование абсолютно никак не отразилось на распределении p-values (графики в формате stack, не надо думать, что частота уменьшилась)\n",
    "\n",
    "а вот на параметрах alpha и beta отразилось, давайте посмотрим результаты в таблице"
   ]
  },
  {
   "cell_type": "code",
   "execution_count": 138,
   "metadata": {},
   "outputs": [
    {
     "data": {
      "text/html": [
       "<div>\n",
       "<style scoped>\n",
       "    .dataframe tbody tr th:only-of-type {\n",
       "        vertical-align: middle;\n",
       "    }\n",
       "\n",
       "    .dataframe tbody tr th {\n",
       "        vertical-align: top;\n",
       "    }\n",
       "\n",
       "    .dataframe thead th {\n",
       "        text-align: right;\n",
       "    }\n",
       "</style>\n",
       "<table border=\"1\" class=\"dataframe\">\n",
       "  <thead>\n",
       "    <tr style=\"text-align: right;\">\n",
       "      <th></th>\n",
       "      <th>test_type</th>\n",
       "      <th>transform</th>\n",
       "      <th>bias</th>\n",
       "      <th>alpha</th>\n",
       "      <th>power</th>\n",
       "      <th>beta</th>\n",
       "      <th>MDE</th>\n",
       "    </tr>\n",
       "  </thead>\n",
       "  <tbody>\n",
       "    <tr>\n",
       "      <th>0</th>\n",
       "      <td>ttest</td>\n",
       "      <td>log</td>\n",
       "      <td>0.05</td>\n",
       "      <td>0.046</td>\n",
       "      <td>1.000</td>\n",
       "      <td>0.000</td>\n",
       "      <td>inf</td>\n",
       "    </tr>\n",
       "    <tr>\n",
       "      <th>1</th>\n",
       "      <td>ttest</td>\n",
       "      <td>original</td>\n",
       "      <td>0.05</td>\n",
       "      <td>0.050</td>\n",
       "      <td>1.000</td>\n",
       "      <td>0.000</td>\n",
       "      <td>inf</td>\n",
       "    </tr>\n",
       "    <tr>\n",
       "      <th>2</th>\n",
       "      <td>bootstrap</td>\n",
       "      <td>log</td>\n",
       "      <td>0.05</td>\n",
       "      <td>0.051</td>\n",
       "      <td>1.000</td>\n",
       "      <td>0.000</td>\n",
       "      <td>inf</td>\n",
       "    </tr>\n",
       "    <tr>\n",
       "      <th>3</th>\n",
       "      <td>mannwhitney</td>\n",
       "      <td>log</td>\n",
       "      <td>0.05</td>\n",
       "      <td>0.055</td>\n",
       "      <td>1.000</td>\n",
       "      <td>0.000</td>\n",
       "      <td>inf</td>\n",
       "    </tr>\n",
       "    <tr>\n",
       "      <th>4</th>\n",
       "      <td>mannwhitney</td>\n",
       "      <td>original</td>\n",
       "      <td>0.05</td>\n",
       "      <td>0.057</td>\n",
       "      <td>1.000</td>\n",
       "      <td>0.000</td>\n",
       "      <td>inf</td>\n",
       "    </tr>\n",
       "    <tr>\n",
       "      <th>5</th>\n",
       "      <td>bootstrap</td>\n",
       "      <td>original</td>\n",
       "      <td>0.05</td>\n",
       "      <td>0.060</td>\n",
       "      <td>1.000</td>\n",
       "      <td>0.000</td>\n",
       "      <td>inf</td>\n",
       "    </tr>\n",
       "    <tr>\n",
       "      <th>6</th>\n",
       "      <td>bootstrap</td>\n",
       "      <td>original</td>\n",
       "      <td>0.03</td>\n",
       "      <td>0.060</td>\n",
       "      <td>0.996</td>\n",
       "      <td>0.004</td>\n",
       "      <td>1.508385</td>\n",
       "    </tr>\n",
       "    <tr>\n",
       "      <th>7</th>\n",
       "      <td>ttest</td>\n",
       "      <td>original</td>\n",
       "      <td>0.03</td>\n",
       "      <td>0.050</td>\n",
       "      <td>0.994</td>\n",
       "      <td>0.006</td>\n",
       "      <td>1.488167</td>\n",
       "    </tr>\n",
       "    <tr>\n",
       "      <th>8</th>\n",
       "      <td>mannwhitney</td>\n",
       "      <td>log</td>\n",
       "      <td>0.03</td>\n",
       "      <td>0.055</td>\n",
       "      <td>0.948</td>\n",
       "      <td>0.052</td>\n",
       "      <td>0.202869</td>\n",
       "    </tr>\n",
       "    <tr>\n",
       "      <th>9</th>\n",
       "      <td>mannwhitney</td>\n",
       "      <td>original</td>\n",
       "      <td>0.03</td>\n",
       "      <td>0.057</td>\n",
       "      <td>0.948</td>\n",
       "      <td>0.052</td>\n",
       "      <td>1.174357</td>\n",
       "    </tr>\n",
       "    <tr>\n",
       "      <th>10</th>\n",
       "      <td>ttest</td>\n",
       "      <td>log</td>\n",
       "      <td>0.03</td>\n",
       "      <td>0.046</td>\n",
       "      <td>0.832</td>\n",
       "      <td>0.168</td>\n",
       "      <td>0.169265</td>\n",
       "    </tr>\n",
       "    <tr>\n",
       "      <th>11</th>\n",
       "      <td>bootstrap</td>\n",
       "      <td>log</td>\n",
       "      <td>0.03</td>\n",
       "      <td>0.051</td>\n",
       "      <td>0.832</td>\n",
       "      <td>0.168</td>\n",
       "      <td>0.166752</td>\n",
       "    </tr>\n",
       "    <tr>\n",
       "      <th>12</th>\n",
       "      <td>bootstrap</td>\n",
       "      <td>original</td>\n",
       "      <td>0.01</td>\n",
       "      <td>0.060</td>\n",
       "      <td>0.336</td>\n",
       "      <td>0.664</td>\n",
       "      <td>0.484970</td>\n",
       "    </tr>\n",
       "    <tr>\n",
       "      <th>13</th>\n",
       "      <td>ttest</td>\n",
       "      <td>original</td>\n",
       "      <td>0.01</td>\n",
       "      <td>0.050</td>\n",
       "      <td>0.323</td>\n",
       "      <td>0.677</td>\n",
       "      <td>0.499362</td>\n",
       "    </tr>\n",
       "    <tr>\n",
       "      <th>14</th>\n",
       "      <td>mannwhitney</td>\n",
       "      <td>original</td>\n",
       "      <td>0.01</td>\n",
       "      <td>0.057</td>\n",
       "      <td>0.244</td>\n",
       "      <td>0.756</td>\n",
       "      <td>0.402587</td>\n",
       "    </tr>\n",
       "    <tr>\n",
       "      <th>15</th>\n",
       "      <td>mannwhitney</td>\n",
       "      <td>log</td>\n",
       "      <td>0.01</td>\n",
       "      <td>0.055</td>\n",
       "      <td>0.220</td>\n",
       "      <td>0.780</td>\n",
       "      <td>0.065628</td>\n",
       "    </tr>\n",
       "    <tr>\n",
       "      <th>16</th>\n",
       "      <td>bootstrap</td>\n",
       "      <td>log</td>\n",
       "      <td>0.01</td>\n",
       "      <td>0.051</td>\n",
       "      <td>0.144</td>\n",
       "      <td>0.856</td>\n",
       "      <td>0.050878</td>\n",
       "    </tr>\n",
       "    <tr>\n",
       "      <th>17</th>\n",
       "      <td>ttest</td>\n",
       "      <td>log</td>\n",
       "      <td>0.01</td>\n",
       "      <td>0.046</td>\n",
       "      <td>0.138</td>\n",
       "      <td>0.862</td>\n",
       "      <td>0.051855</td>\n",
       "    </tr>\n",
       "  </tbody>\n",
       "</table>\n",
       "</div>"
      ],
      "text/plain": [
       "      test_type transform  bias  alpha  power   beta       MDE\n",
       "0         ttest       log  0.05  0.046  1.000  0.000       inf\n",
       "1         ttest  original  0.05  0.050  1.000  0.000       inf\n",
       "2     bootstrap       log  0.05  0.051  1.000  0.000       inf\n",
       "3   mannwhitney       log  0.05  0.055  1.000  0.000       inf\n",
       "4   mannwhitney  original  0.05  0.057  1.000  0.000       inf\n",
       "5     bootstrap  original  0.05  0.060  1.000  0.000       inf\n",
       "6     bootstrap  original  0.03  0.060  0.996  0.004  1.508385\n",
       "7         ttest  original  0.03  0.050  0.994  0.006  1.488167\n",
       "8   mannwhitney       log  0.03  0.055  0.948  0.052  0.202869\n",
       "9   mannwhitney  original  0.03  0.057  0.948  0.052  1.174357\n",
       "10        ttest       log  0.03  0.046  0.832  0.168  0.169265\n",
       "11    bootstrap       log  0.03  0.051  0.832  0.168  0.166752\n",
       "12    bootstrap  original  0.01  0.060  0.336  0.664  0.484970\n",
       "13        ttest  original  0.01  0.050  0.323  0.677  0.499362\n",
       "14  mannwhitney  original  0.01  0.057  0.244  0.756  0.402587\n",
       "15  mannwhitney       log  0.01  0.055  0.220  0.780  0.065628\n",
       "16    bootstrap       log  0.01  0.051  0.144  0.856  0.050878\n",
       "17        ttest       log  0.01  0.046  0.138  0.862  0.051855"
      ]
     },
     "execution_count": 138,
     "metadata": {},
     "output_type": "execute_result"
    }
   ],
   "source": [
    "summary_results_df.sort_values(\n",
    "    by=['power', 'alpha'], ascending=[False, True] # сразу отсортируем по мощности и ошибке: нам нужна мощность как можно ближе к 1, а ошибка как можно ближе к 0\n",
    ")"
   ]
  },
  {
   "cell_type": "markdown",
   "metadata": {},
   "source": [
    "## Разбор пар критерий-метрика\n",
    "\n",
    "1. **Исключение аномальных результатов**: Для bias = 5% результаты с MDE = `inf` (например, t-test, bootstrap, mannwhitney) сразу отбрасываются. Это означает, что мощность «взорвалась», и результаты непригодны для интерпретации.\n",
    "\n",
    "2. **Bootstrap (original)**:\n",
    "   - **bias = 3%**:\n",
    "     - MDE = 1.508385\n",
    "     - Power = 0.996 при alpha = 0.060\n",
    "     - Высокая мощность, но alpha превышает порог 0.05, а MDE заметно выше, чем у других методов.\n",
    "   - **bias = 1%**:\n",
    "     - MDE = 0.484970\n",
    "     - Power = 0.336 при alpha = 0.060\n",
    "     - Низкая мощность, делает вариант непрактичным, несмотря на снижение MDE.\n",
    "\n",
    "3. **Bootstrap (log)**:\n",
    "   - **bias = 3%**:\n",
    "     - MDE = 0.166752\n",
    "     - Power = 0.832 при alpha = 0.051\n",
    "     - Сильное снижение MDE за счет логарифмирования. При этом мощность остается на уровне 83.2%, что делает этот вариант одним из лучших.\n",
    "   - **bias = 1%**:\n",
    "     - MDE = 0.050878\n",
    "     - Power = 0.144 при alpha = 0.051\n",
    "     - Минимальный MDE, но мощность слишком низкая, что делает результат малопригодным.\n",
    "\n",
    "4. **Mann-Whitney (original)**:\n",
    "   - **bias = 3%**:\n",
    "     - MDE = 1.174357\n",
    "     - Power = 0.948 при alpha = 0.057\n",
    "     - Высокая мощность, но MDE значительно выше, чем у логарифмированных методов.\n",
    "   - **bias = 1%**:\n",
    "     - MDE = 0.402587\n",
    "     - Power = 0.244 при alpha = 0.057\n",
    "     - Низкая мощность и более высокое MDE делают вариант слабым.\n",
    "\n",
    "5. **Mann-Whitney (log)**:\n",
    "   - **bias = 3%**:\n",
    "     - MDE = 0.202869\n",
    "     - Power = 0.948 при alpha = 0.055\n",
    "     - Логарифмирование значительно уменьшает MDE, сохраняя мощность на высоком уровне (94.8%). Этот метод отлично подходит для поиска небольших эффектов.\n",
    "   - **bias = 1%**:\n",
    "     - MDE = 0.065628\n",
    "     - Power = 0.220 при alpha = 0.055\n",
    "     - Мощность выше, чем у других методов на bias = 1%, а MDE остается минимальным. Это делает Mann-Whitney (log) лидером для небольших эффектов.\n",
    "\n",
    "6. **t-test (original)**:\n",
    "   - **bias = 3%**:\n",
    "     - MDE = 1.488167\n",
    "     - Power = 0.994 при alpha = 0.050\n",
    "     - Очень высокая мощность, но MDE гораздо выше, чем у других методов.\n",
    "   - **bias = 1%**:\n",
    "     - MDE = 0.499362\n",
    "     - Power = 0.323 при alpha = 0.050\n",
    "     - Слабая мощность и высокое MDE делают результат непрактичным.\n",
    "\n",
    "7. **t-test (log)**:\n",
    "   - **bias = 3%**:\n",
    "     - MDE = 0.169265\n",
    "     - Power = 0.832 при alpha = 0.046\n",
    "     - Хороший компромисс: низкое alpha, допустимый MDE и мощность.\n",
    "   - **bias = 1%**:\n",
    "     - MDE = 0.051855\n",
    "     - Power = 0.138 при alpha = 0.046\n",
    "     - Мощность слишком низкая, что делает результат слабым, несмотря на минимальное MDE.\n",
    "\n",
    "### Рекомендация\n",
    "- **Лучший баланс**: Mann-Whitney (log) при bias = 3%. Этот метод сочетает высокий уровень мощности (94.8%), низкое MDE (0.202869) и умеренное alpha (0.055). Он подходит для большинства сценариев, где мы ожидаем прибавку в 3%.\n",
    "- **Для минимального MDE при 1% bias**: Mann-Whitney (log) при bias = 1%. Лидер по MDE (0.065628) в этом сегменте и относительно высокой мощности (22.0%) на таком малом эффекте. Его стоит выбрать, если нам критично важно минимизировать MDE.\n",
    "- **Для высокой мощности при 3% bias**: Bootstrap (original) при bias = 3%. Самый большой MDE (1.508385) и мощность (99.6%) делают его самым мощным тестом, однако при условии, что ожидается высокий MDE.\n",
    "\n",
    "\n",
    "## Итоговый выбор\n",
    "**Mann-Whitney + log (логарифмированная метрика длительности просмотров)** — оптимальный вариант для стабильных и чувствительных результатов. Имеет маленький MDE за счет логарифмирования, отличную мощность в практически 95% и вполне допустимую вероятность ошибки первого рода в 5.5%. На bias=0.01 все подходы ведут себя плохо, поэтому эта пара рассматривается при ожидаемом эффекте в 3%."
   ]
  },
  {
   "cell_type": "markdown",
   "metadata": {},
   "source": [
    "# A/B тест"
   ]
  },
  {
   "cell_type": "code",
   "execution_count": 196,
   "metadata": {},
   "outputs": [
    {
     "data": {
      "text/plain": [
       "group\n",
       "A    138420\n",
       "B    137196\n",
       "Name: count, dtype: int64"
      ]
     },
     "execution_count": 196,
     "metadata": {},
     "output_type": "execute_result"
    }
   ],
   "source": [
    "two_week_nulled = two_week.copy()\n",
    "# зануляем total_dur для пользователей с total_dur < 500\n",
    "two_week_nulled.loc[two_week['total_dur'] < 500, 'total_dur'] = 0\n",
    "\n",
    "two_week_nulled = groups_splitter(two_week_nulled, columns=['user_id', 'total_dur', 'group'], user_salt='kiontestmodel20210805')\n",
    "two_week_nulled['group'].value_counts()\n",
    "# ну не совсем и равные группы, но будет считать что норм"
   ]
  },
  {
   "cell_type": "code",
   "execution_count": 197,
   "metadata": {},
   "outputs": [
    {
     "name": "stdout",
     "output_type": "stream",
     "text": [
      "Нулевая гипотеза не отвергается, p-value: 0.084054\n"
     ]
    }
   ],
   "source": [
    "# добавляем топ 10% пользователям по продолжительности для группы B\n",
    "two_week_nulled.loc[\n",
    "        (two_week_nulled['total_dur'] >= two_week_nulled['total_dur'].quantile(0.90)) &\\\n",
    "        (two_week_nulled['group'] == 'B'),\n",
    "    'total_dur'\n",
    "] *= (1 + 0.025)\n",
    "\n",
    "# выбросы в 3std уже выкинуты, теперь надо прологарифмировать\n",
    "two_week_nulled['metric'] = np.log2(two_week_nulled['total_dur'])\n",
    "\n",
    "mask_a = (two_week_nulled['group'].values == 'A')\n",
    "mask_b = (two_week_nulled['group'].values == 'B')\n",
    "\n",
    "device = 'cuda' if torch.cuda.is_available() else 'cpu'\n",
    "vec_a = torch.tensor(two_week_nulled['metric'].values[mask_a].astype(np.float32), device=device)\n",
    "vec_b = torch.tensor(two_week_nulled['metric'].values[mask_b].astype(np.float32), device=device)\n",
    "\n",
    "# вызываем тест манна-уитни, как и определились выше\n",
    "diff_means, p, res = test_mannwhitney(vec_a, vec_b)\n",
    "print(f\"Нулевая гипотеза{' не' if not res else ''} отвергается, p-value: {p:.6f}\")"
   ]
  },
  {
   "cell_type": "markdown",
   "metadata": {},
   "source": [
    "```\n",
    "Нулевая гипотеза не отвергнута, так как p-value составляет 0.084, что выше порогового значения 0.05. Это указывает на отсутствие статистически значимой разницы между группами.  \n",
    "\n",
    "Возможно, эффект был недостаточно выраженным, так как изменения наблюдались только у 10% пользователей, и эти изменения были небольшими по величине. Кроме того, близость p-value к 0.05 может указывать на то, что эффекта немного не хватило, либо из-за его слабости, либо из-за его ограниченного влияния на пользователей.\n",
    "\n",
    "Выбранная комбинация метрики и данных не позволила обнаружить значимого различия между группами, что могло быть связано с низкой мощностью теста или недостаточной выборкой.\n",
    "```"
   ]
  },
  {
   "cell_type": "markdown",
   "metadata": {},
   "source": []
  }
 ],
 "metadata": {
  "accelerator": "GPU",
  "colab": {
   "gpuType": "T4",
   "provenance": []
  },
  "kernelspec": {
   "display_name": ".venv",
   "language": "python",
   "name": "python3"
  },
  "language_info": {
   "codemirror_mode": {
    "name": "ipython",
    "version": 3
   },
   "file_extension": ".py",
   "mimetype": "text/x-python",
   "name": "python",
   "nbconvert_exporter": "python",
   "pygments_lexer": "ipython3",
   "version": "3.9.20"
  }
 },
 "nbformat": 4,
 "nbformat_minor": 0
}
